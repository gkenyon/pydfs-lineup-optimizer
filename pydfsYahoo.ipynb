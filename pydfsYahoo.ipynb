{
 "cells": [
  {
   "cell_type": "code",
   "execution_count": 5,
   "metadata": {},
   "outputs": [],
   "source": [
    "from pydfs_lineup_optimizer import get_optimizer, Site, Sport, PlayerFilter\n",
    "from pydfs_lineup_optimizer.stacks import TeamStack\n",
    "optimizer = get_optimizer(Site.YAHOO, Sport.BASEBALL)\n",
    "optimizer.load_players_from_csv(\"D:\\Downloads\\Yahoo_DF_player_export.csv\")\n",
    "pool = optimizer.player_pool\n",
    "##for player in pool.get_players(PlayerFilter(Positions=['P'], Probable=['No'])):\n",
    "   ## pool.remove_player(player) "
   ]
  },
  {
   "cell_type": "code",
   "execution_count": 6,
   "metadata": {},
   "outputs": [
    {
     "name": "stderr",
     "output_type": "stream",
     "text": [
      "c:\\Users\\gkeny\\.vscode\\pydfs-lineup-optimizer\\pydfs_lineup_optimizer\\utils.py:156: DeprecationWarning: available_teams will be removed in version 3.7, use player_pool.available_teams instead\n",
      "  warnings.warn(text, DeprecationWarning)\n"
     ]
    }
   ],
   "source": [
    "optimizer.add_stack(TeamStack(3, for_teams=['ATL'], max_exposure=.3))\n",
    "#optimizer.player_pool.remove_player('Tom Brady')\n",
    "#players = pool.get_players('Tom Brady', 'Rob Gronkowski', 'Chris Godwin')  # get players by name\n",
    "#player = optimizer.player_pool.get_player_by_name('Tom Brady')\n",
    "#player.max_exposure = 0.5  # set 50% max exposure\n",
    "#player.min_exposure = 0.3  # set 30% min exposure\n"
   ]
  },
  {
   "cell_type": "code",
   "execution_count": 7,
   "metadata": {},
   "outputs": [
    {
     "name": "stdout",
     "output_type": "stream",
     "text": [
      " 1. P       Luis Garcia                   P     HOU            KC@HOU   20.2           43.0$     \n",
      " 2. P       Nick Pivetta                  P     BOS            TB@BOS   20.7           47.0$     \n",
      " 3. C       William Contreras             C     ATL            STL@ATL  7.9            9.0$      \n",
      " 4. 1B      Matt Olson                    1B    ATL            STL@ATL  8.0            17.0$     \n",
      " 5. 2B      Trevor Story                  2B    BOS            TB@BOS   8.3            10.0$     \n",
      " 6. 3B      David Villar                  3B    SF             SF@ARI   9.7            7.0$      \n",
      " 7. SS      Wander Franco                 SS    TB             TB@BOS   6.9            8.0$      \n",
      " 8. OF      Aaron Judge                   OF    NYY            NYY@PIT  10.7           22.0$     \n",
      " 9. OF      Mookie Betts                  OF    LAD            COL@LAD  10.4           17.0$     \n",
      "10. OF      Ronald Acuna Jr.              OF    ATL            STL@ATL  9.7            20.0$     \n",
      "\n",
      "Fantasy Points 112.50\n",
      "Salary 200.00\n",
      "\n",
      " 1. P       Luis Garcia                   P     HOU            KC@HOU   20.2           43.0$     \n",
      " 2. P       Nick Pivetta                  P     BOS            TB@BOS   20.7           47.0$     \n",
      " 3. C       William Contreras             C     ATL            STL@ATL  7.9            9.0$      \n",
      " 4. 1B      Darick Hall                   1B    PHI            WAS@PHI  9.4            15.0$     \n",
      " 5. 2B      Trevor Story                  2B    BOS            TB@BOS   8.3            10.0$     \n",
      " 6. 3B      David Villar                  3B    SF             SF@ARI   9.7            7.0$      \n",
      " 7. SS      Dansby Swanson                SS    ATL            STL@ATL  8.9            22.0$     \n",
      " 8. OF      J.D. Martinez                 OF    BOS            TB@BOS   8.3            11.0$     \n",
      " 9. OF      Jarren Duran                  OF    BOS            TB@BOS   9.3            15.0$     \n",
      "10. OF      Ronald Acuna Jr.              OF    ATL            STL@ATL  9.7            20.0$     \n",
      "\n",
      "Fantasy Points 112.40\n",
      "Salary 199.00\n",
      "\n",
      " 1. P       Jameson Taillon               P     NYY            NYY@PIT  18.3           41.0$     \n",
      " 2. P       Jose Quintana                 P     PIT            NYY@PIT  14.9           31.0$     \n",
      " 3. C       Pedro Severino                C     MIL            CHC@MIL  7.1            10.0$     \n",
      " 4. 1B      Darick Hall                   1B    PHI            WAS@PHI  9.4            15.0$     \n",
      " 5. 2B      Jose Altuve                   2B    HOU            KC@HOU   9.1            20.0$     \n",
      " 6. 3B      Jose Ramirez                  3B    CLE            CLE@DET  10.5           19.0$     \n",
      " 7. SS      Tim Anderson                  SS    CWS            MIN@CWS  8.1            14.0$     \n",
      " 8. OF      Aaron Judge                   OF    NYY            NYY@PIT  10.7           22.0$     \n",
      " 9. OF      J.D. Martinez                 OF    BOS            TB@BOS   8.3            11.0$     \n",
      "10. OF      Mookie Betts                  OF    LAD            COL@LAD  10.4           17.0$     \n",
      "\n",
      "Fantasy Points 106.80\n",
      "Salary 200.00\n",
      "\n",
      " 1. P       Jameson Taillon               P     NYY            NYY@PIT  18.3           41.0$     \n",
      " 2. P       Jose Quintana                 P     PIT            NYY@PIT  14.9           31.0$     \n",
      " 3. C       Garrett Stubbs                C     PHI            WAS@PHI  6.2            7.0$      \n",
      " 4. 1B      Paul Goldschmidt              1B    STL            STL@ATL  10.8           25.0$     \n",
      " 5. 2B      Jose Altuve                   2B    HOU            KC@HOU   9.1            20.0$     \n",
      " 6. 3B      Jose Ramirez                  3B    CLE            CLE@DET  10.5           19.0$     \n",
      " 7. SS      Tim Anderson                  SS    CWS            MIN@CWS  8.1            14.0$     \n",
      " 8. OF      Christopher Morel             OF    CHC            CHC@MIL  9.3            19.0$     \n",
      " 9. OF      Daulton Varsho                OF    ARI            SF@ARI   7.1            9.0$      \n",
      "10. OF      Jarren Duran                  OF    BOS            TB@BOS   9.3            15.0$     \n",
      "\n",
      "Fantasy Points 103.60\n",
      "Salary 200.00\n",
      "\n",
      " 1. P       Kyle Hendricks                P     CHC            CHC@MIL  13.4           30.0$     \n",
      " 2. P       Michael Kopech                P     CWS            MIN@CWS  16.5           39.0$     \n",
      " 3. C       Pedro Severino                C     MIL            CHC@MIL  7.1            10.0$     \n",
      " 4. 1B      Paul Goldschmidt              1B    STL            STL@ATL  10.8           25.0$     \n",
      " 5. 2B      Luis Urias                    2B    MIL            CHC@MIL  7.2            13.0$     \n",
      " 6. 3B      Rafael Devers                 3B    BOS            TB@BOS   9.7            18.0$     \n",
      " 7. SS      Tommy Edman                   SS    STL            STL@ATL  8.3            16.0$     \n",
      " 8. OF      Byron Buxton                  OF    MIN            MIN@CWS  9.3            21.0$     \n",
      " 9. OF      Christopher Morel             OF    CHC            CHC@MIL  9.3            19.0$     \n",
      "10. OF      Daulton Varsho                OF    ARI            SF@ARI   7.1            9.0$      \n",
      "\n",
      "Fantasy Points 98.70\n",
      "Salary 200.00\n",
      "\n"
     ]
    }
   ],
   "source": [
    "lineups = optimizer.optimize(n=5, max_exposure=0.3)\n",
    "for lineup in lineups:\n",
    "    print(lineup)\n",
    "optimizer.export('YahooResult.csv')"
   ]
  }
 ],
 "metadata": {
  "kernelspec": {
   "display_name": "Python 3.9.13 64-bit (windows store)",
   "language": "python",
   "name": "python3"
  },
  "language_info": {
   "codemirror_mode": {
    "name": "ipython",
    "version": 3
   },
   "file_extension": ".py",
   "mimetype": "text/x-python",
   "name": "python",
   "nbconvert_exporter": "python",
   "pygments_lexer": "ipython3",
   "version": "3.9.13"
  },
  "orig_nbformat": 4,
  "vscode": {
   "interpreter": {
    "hash": "1c0c1280aade153ef39a8fdeeea0e6213fe6e4e44551cf8ae9c017e975576538"
   }
  }
 },
 "nbformat": 4,
 "nbformat_minor": 2
}
